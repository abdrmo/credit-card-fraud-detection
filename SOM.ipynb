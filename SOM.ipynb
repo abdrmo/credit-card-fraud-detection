{
 "cells": [
  {
   "cell_type": "code",
   "execution_count": 1,
   "metadata": {},
   "outputs": [],
   "source": [
    "### Data is from UCI repo"
   ]
  },
  {
   "cell_type": "code",
   "execution_count": 2,
   "metadata": {},
   "outputs": [],
   "source": [
    "### Here we detect the outliers which are the fraud customers"
   ]
  },
  {
   "cell_type": "code",
   "execution_count": 3,
   "metadata": {},
   "outputs": [],
   "source": [
    "## We need to compute the MID(Mean Inter-Neuron Distance), which is the mean euclidean distance of the main neuron with its neighbourhood"
   ]
  },
  {
   "cell_type": "code",
   "execution_count": 4,
   "metadata": {},
   "outputs": [],
   "source": [
    "### Outliers will be far from the mean"
   ]
  },
  {
   "cell_type": "code",
   "execution_count": 5,
   "metadata": {},
   "outputs": [],
   "source": [
    "### Class 1 are the customers whose applications got approved\n",
    "### They may be fraudulent"
   ]
  },
  {
   "cell_type": "code",
   "execution_count": 6,
   "metadata": {},
   "outputs": [],
   "source": [
    "import numpy as np\n",
    "import matplotlib.pyplot as plt\n",
    "import pandas as pd\n",
    "from numpy import *"
   ]
  },
  {
   "cell_type": "code",
   "execution_count": 15,
   "metadata": {},
   "outputs": [],
   "source": [
    "dataset = pd.read_csv('Credit_Card_Applications.csv')\n",
    "X = dataset.iloc[:, :-1].values\n",
    "y = dataset.iloc[:, -1].values"
   ]
  },
  {
   "cell_type": "code",
   "execution_count": 16,
   "metadata": {},
   "outputs": [
    {
     "data": {
      "text/plain": [
       "(690, 16)"
      ]
     },
     "execution_count": 16,
     "metadata": {},
     "output_type": "execute_result"
    }
   ],
   "source": [
    "dataset.shape"
   ]
  },
  {
   "cell_type": "code",
   "execution_count": 17,
   "metadata": {},
   "outputs": [],
   "source": [
    "from sklearn.preprocessing import MinMaxScaler\n",
    "sc = MinMaxScaler(feature_range = (0, 1))\n",
    "X = sc.fit_transform(X)"
   ]
  },
  {
   "cell_type": "code",
   "execution_count": 18,
   "metadata": {},
   "outputs": [],
   "source": [
    "### x and y are the dimensions of the SOM(it should not be small so that outliers can be detected)\n",
    "### input_len are the number of features of X(customer id included to find the id of faulters)\n",
    "### sigma is the radius"
   ]
  },
  {
   "cell_type": "code",
   "execution_count": 19,
   "metadata": {},
   "outputs": [],
   "source": [
    "from minisom import MiniSom\n",
    "som = MiniSom(x = 10, y = 10, input_len = 15, sigma = 1.0, learning_rate = 0.3)\n",
    "som.random_weights_init(X)\n",
    "som.train_random(data = X, num_iteration = 100)"
   ]
  },
  {
   "cell_type": "code",
   "execution_count": 20,
   "metadata": {},
   "outputs": [],
   "source": [
    "### The higher the MID the more away will be the winning node from its neighbourhood\n",
    "### thus it will be more likely to be an outlier\n",
    "### The BMU far from its neighbourhood is generally far from the clusters"
   ]
  },
  {
   "cell_type": "code",
   "execution_count": 21,
   "metadata": {},
   "outputs": [],
   "source": [
    "### colors closer to white are outliers"
   ]
  },
  {
   "cell_type": "code",
   "execution_count": 22,
   "metadata": {},
   "outputs": [],
   "source": [
    "### the window is the bone()\n",
    "from pylab import bone, pcolor, colorbar"
   ]
  },
  {
   "cell_type": "code",
   "execution_count": 23,
   "metadata": {},
   "outputs": [
    {
     "data": {
      "text/plain": [
       "<Figure size 432x288 with 0 Axes>"
      ]
     },
     "metadata": {},
     "output_type": "display_data"
    }
   ],
   "source": [
    "bone()"
   ]
  },
  {
   "cell_type": "code",
   "execution_count": 24,
   "metadata": {
    "scrolled": true
   },
   "outputs": [],
   "source": [
    "distance_map = som.distance_map().round(1)"
   ]
  },
  {
   "cell_type": "code",
   "execution_count": 25,
   "metadata": {},
   "outputs": [
    {
     "data": {
      "text/plain": [
       "array([[0.2, 0.4, 0.4, 0.4, 0.5, 0.6, 0.5, 0.3, 0.3, 0.2],\n",
       "       [0.5, 0.7, 0.7, 0.7, 0.8, 0.9, 0.8, 0.6, 0.6, 0.5],\n",
       "       [0.5, 0.6, 0.6, 0.6, 1. , 0.8, 0.7, 0.7, 0.7, 0.5],\n",
       "       [0.4, 0.6, 0.6, 0.8, 0.6, 0.9, 0.8, 0.6, 0.5, 0.3],\n",
       "       [0.5, 0.7, 0.7, 0.7, 0.8, 0.6, 0.7, 0.5, 0.4, 0.2],\n",
       "       [0.6, 1. , 0.8, 0.8, 0.6, 0.7, 0.6, 0.4, 0.5, 0.4],\n",
       "       [0.5, 0.8, 0.8, 0.8, 0.8, 0.7, 0.5, 0.4, 0.4, 0.3],\n",
       "       [0.5, 0.9, 0.7, 0.7, 0.7, 0.7, 0.5, 0.4, 0.4, 0.3],\n",
       "       [0.4, 0.7, 0.7, 0.7, 0.8, 0.6, 0.6, 0.5, 0.5, 0.3],\n",
       "       [0.2, 0.4, 0.4, 0.4, 0.4, 0.4, 0.3, 0.4, 0.3, 0.2]])"
      ]
     },
     "execution_count": 25,
     "metadata": {},
     "output_type": "execute_result"
    }
   ],
   "source": [
    "distance_map"
   ]
  },
  {
   "cell_type": "code",
   "execution_count": 26,
   "metadata": {},
   "outputs": [
    {
     "data": {
      "text/plain": [
       "69"
      ]
     },
     "execution_count": 26,
     "metadata": {},
     "output_type": "execute_result"
    }
   ],
   "source": [
    "index = []\n",
    "for i in range(10):\n",
    "    for j in range(10):\n",
    "        if(distance_map[i,j]>=0.5):\n",
    "            index.append([i,j])\n",
    "len(index)"
   ]
  },
  {
   "cell_type": "code",
   "execution_count": 27,
   "metadata": {},
   "outputs": [
    {
     "data": {
      "text/plain": [
       "<matplotlib.colorbar.Colorbar at 0x7fd6a266cba8>"
      ]
     },
     "execution_count": 27,
     "metadata": {},
     "output_type": "execute_result"
    },
    {
     "data": {
      "image/png": "[encoded data removed]",
      "text/plain": [
       "<Figure size 432x288 with 2 Axes>"
      ]
     },
     "metadata": {
      "needs_background": "light"
     },
     "output_type": "display_data"
    }
   ],
   "source": [
    "pcolor(som.distance_map().T)\n",
    "colorbar() #gives legend"
   ]
  },
  {
   "cell_type": "code",
   "execution_count": 28,
   "metadata": {},
   "outputs": [
    {
     "data": {
      "text/plain": [
       "dict_keys([(6, 4), (5, 1), (1, 6), (8, 4), (3, 8), (9, 0), (3, 3), (8, 0), (3, 5), (6, 6), (6, 7), (7, 8), (7, 7), (0, 8), (3, 1), (4, 0), (7, 6), (3, 6), (7, 3), (2, 4), (3, 2), (9, 9), (4, 4), (5, 9), (5, 0), (2, 0), (9, 1), (4, 8), (8, 5), (6, 1), (8, 1), (4, 6), (1, 9), (0, 2), (4, 7), (6, 3), (9, 5), (2, 3), (7, 1), (0, 6), (8, 3), (9, 3), (2, 2), (7, 2), (8, 2), (6, 5), (8, 8), (0, 7), (6, 9), (9, 2), (5, 5), (5, 2), (7, 0), (1, 7), (3, 7)])"
      ]
     },
     "execution_count": 28,
     "metadata": {},
     "output_type": "execute_result"
    }
   ],
   "source": [
    "mappings = som.win_map(X)\n",
    "mappings.keys()"
   ]
  },
  {
   "cell_type": "code",
   "execution_count": 29,
   "metadata": {
    "scrolled": true
   },
   "outputs": [
    {
     "data": {
      "text/plain": [
       "469"
      ]
     },
     "execution_count": 29,
     "metadata": {},
     "output_type": "execute_result"
    }
   ],
   "source": [
    "fraud_list = []\n",
    "sum = 0\n",
    "for x in index:\n",
    "    fraud_list.append(mappings[(x[0],x[1])])\n",
    "    sum = sum + len(mappings[(x[0],x[1])])\n",
    "sum"
   ]
  },
  {
   "cell_type": "code",
   "execution_count": 30,
   "metadata": {},
   "outputs": [],
   "source": [
    "frauds = []\n",
    "for x in fraud_list:\n",
    "    for y in x:\n",
    "        frauds.append(y)\n",
    "            "
   ]
  },
  {
   "cell_type": "code",
   "execution_count": 31,
   "metadata": {},
   "outputs": [],
   "source": [
    "fraud_array = np.asarray(frauds)"
   ]
  },
  {
   "cell_type": "code",
   "execution_count": 32,
   "metadata": {},
   "outputs": [],
   "source": [
    "fraud_inverse_transformed = sc.inverse_transform(frauds) # Undo the scaling of data pattern of frauds according to feature_range"
   ]
  },
  {
   "cell_type": "markdown",
   "metadata": {},
   "source": [
    "## Printing fraud ID's"
   ]
  },
  {
   "cell_type": "code",
   "execution_count": 33,
   "metadata": {},
   "outputs": [
    {
     "name": "stdout",
     "output_type": "stream",
     "text": [
      "Total frauds :469\n"
     ]
    }
   ],
   "source": [
    "count = 0\n",
    "fraud_id_list = []\n",
    "for x in fraud_inverse_transformed:\n",
    "    fraud_id_list.append(x[0])\n",
    "print('Total frauds :{}'.format(len(fraud_id_list)))"
   ]
  },
  {
   "cell_type": "code",
   "execution_count": 34,
   "metadata": {},
   "outputs": [],
   "source": [
    "count = 0\n",
    "right_prediction_index =[]\n",
    "wrong_prediction_index =[]\n",
    "for x in fraud_id_list:\n",
    "    for i,y in enumerate(dataset['CustomerID']):\n",
    "        if(x == y):\n",
    "            if(dataset['Class'][i] == 0):\n",
    "                count = count+1\n",
    "                right_prediction_index.append(i)\n",
    "            else:\n",
    "                wrong_prediction_index.append(i)\n",
    "                "
   ]
  },
  {
   "cell_type": "code",
   "execution_count": 35,
   "metadata": {},
   "outputs": [
    {
     "data": {
      "text/plain": [
       "313"
      ]
     },
     "execution_count": 35,
     "metadata": {},
     "output_type": "execute_result"
    }
   ],
   "source": [
    "a = len(right_prediction_index)\n",
    "a"
   ]
  },
  {
   "cell_type": "code",
   "execution_count": 36,
   "metadata": {},
   "outputs": [
    {
     "data": {
      "text/plain": [
       "156"
      ]
     },
     "execution_count": 36,
     "metadata": {},
     "output_type": "execute_result"
    }
   ],
   "source": [
    "b=len(wrong_prediction_index)\n",
    "b"
   ]
  },
  {
   "cell_type": "code",
   "execution_count": 37,
   "metadata": {},
   "outputs": [],
   "source": [
    "l = len(fraud_id_list)"
   ]
  },
  {
   "cell_type": "code",
   "execution_count": 38,
   "metadata": {},
   "outputs": [
    {
     "name": "stdout",
     "output_type": "stream",
     "text": [
      "Right Prediction:66.73773987206823\n"
     ]
    }
   ],
   "source": [
    "print('Right Prediction:{}'.format((a/l)*100))"
   ]
  },
  {
   "cell_type": "code",
   "execution_count": 56,
   "metadata": {},
   "outputs": [],
   "source": [
    "total_population = dataset.shape[0]"
   ]
  },
  {
   "cell_type": "code",
   "execution_count": 39,
   "metadata": {},
   "outputs": [],
   "source": [
    "total_actual_frauds  = dataset[dataset['Class'] == 0].shape[0]"
   ]
  },
  {
   "cell_type": "code",
   "execution_count": 60,
   "metadata": {},
   "outputs": [
    {
     "name": "stdout",
     "output_type": "stream",
     "text": [
      "Percentage of frauds detected out of total actual frauds:81.72323759791122\n"
     ]
    }
   ],
   "source": [
    "print('Percentage of frauds detected out of total actual frauds:{}'.format((a/total_actual_frauds)*100))"
   ]
  },
  {
   "cell_type": "code",
   "execution_count": 64,
   "metadata": {},
   "outputs": [
    {
     "name": "stdout",
     "output_type": "stream",
     "text": [
      "Percentage of fraud customers in population as claimed by prediction model:45.36231884057971\n"
     ]
    }
   ],
   "source": [
    "print('Percentage of fraud customers in population as claimed by prediction model:{}'.format((a/total_population)*100))"
   ]
  },
  {
   "cell_type": "code",
   "execution_count": 62,
   "metadata": {},
   "outputs": [
    {
     "name": "stdout",
     "output_type": "stream",
     "text": [
      "Actual precentage of frauds out of total population:55.507246376811594\n"
     ]
    }
   ],
   "source": [
    "print('Actual precentage of frauds out of total population:{}'.format((total_actual_frauds/total_population)*100))"
   ]
  },
  {
   "cell_type": "code",
   "execution_count": 61,
   "metadata": {},
   "outputs": [
    {
     "name": "stdout",
     "output_type": "stream",
     "text": [
      "Affected population(percentage of custormers who were not fraud but were predicted as fraud)):22.608695652173914\n"
     ]
    }
   ],
   "source": [
    "print('Affected population(percentage of custormers who were not fraud but were predicted as fraud)):{}'.format((b/690)*100))"
   ]
  }
 ],
 "metadata": {
  "hide_input": false,
  "kernelspec": {
   "display_name": "Python 3",
   "language": "python",
   "name": "python3"
  },
  "language_info": {
   "codemirror_mode": {
    "name": "ipython",
    "version": 3
   },
   "file_extension": ".py",
   "mimetype": "text/x-python",
   "name": "python",
   "nbconvert_exporter": "python",
   "pygments_lexer": "ipython3",
   "version": "3.6.8"
  },
  "toc": {
   "base_numbering": 1,
   "nav_menu": {},
   "number_sections": true,
   "sideBar": true,
   "skip_h1_title": false,
   "title_cell": "Table of Contents",
   "title_sidebar": "Contents",
   "toc_cell": false,
   "toc_position": {},
   "toc_section_display": true,
   "toc_window_display": false
  },
  "varInspector": {
   "cols": {
    "lenName": 16,
    "lenType": 16,
    "lenVar": 40
   },
   "kernels_config": {
    "python": {
     "delete_cmd_postfix": "",
     "delete_cmd_prefix": "del ",
     "library": "var_list.py",
     "varRefreshCmd": "print(var_dic_list())"
    },
    "r": {
     "delete_cmd_postfix": ") ",
     "delete_cmd_prefix": "rm(",
     "library": "var_list.r",
     "varRefreshCmd": "cat(var_dic_list()) "
    }
   },
   "types_to_exclude": [
    "module",
    "function",
    "builtin_function_or_method",
    "instance",
    "_Feature"
   ],
   "window_display": false
  }
 },
 "nbformat": 4,
 "nbformat_minor": 2
}
